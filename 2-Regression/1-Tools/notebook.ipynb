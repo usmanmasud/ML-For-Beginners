{
 "cells": [
  {
   "cell_type": "markdown",
   "id": "247d91e0",
   "metadata": {},
   "source": [
    "#Welcome\n",
    "\n",
    "print(\"Hello world\")\n"
   ]
  }
 ],
 "metadata": {
  "language_info": {
   "name": "python"
  }
 },
 "nbformat": 4,
 "nbformat_minor": 5
}
